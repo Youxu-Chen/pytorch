{
 "cells": [
  {
   "cell_type": "markdown",
   "metadata": {},
   "source": [
    "# [从零开始学习NLP：使用字符集RNN对行吗进行分类](https://pytorch.ac.cn/tutorials/intermediate/char_rnn_classification_tutorial.html)\n",
    "\n",
    "我们将构建和训练一个基本的字符级循环神经网络 (RNN) 来对单词进行分类。本教程以及另外两个自然语言处理 (NLP)“从零开始”教程，从零开始学习 NLP：使用字符级 RNN 生成姓名和从零开始学习 NLP：使用序列到序列网络和注意力机制进行翻译，展示了如何预处理数据以建模 NLP。特别是，这些教程没有使用许多torchtext的便捷函数，因此您可以看到在底层如何预处理以建模 NLP。\n",
    "\n",
    "字符级 RNN 将单词作为一系列字符读取 - 在每个步骤输出预测和“隐藏状态”，将其先前的隐藏状态馈送到每个下一步。我们将最终预测作为输出，即单词所属的类别。\n",
    "\n",
    "具体来说，我们将根据拼写对来自 18 种语言的几千个姓氏进行训练，并预测姓名来自哪种语言。"
   ]
  },
  {
   "cell_type": "markdown",
   "metadata": {},
   "source": [
    "## 准备数据\n",
    "data/names目录中包含 18 个文本文件，命名为[语言].txt。每个文件都包含一堆名称，每行一个名称，大部分是罗马化的（但我们仍然需要从 Unicode 转换为 ASCII）。\n",
    "\n",
    "我们最终会得到一个字典，其中包含按语言列出的名称列表，{语言: [名称 ...]}。通用变量“类别”和“行”（在我们的例子中是语言和名称）用于以后的可扩展性。"
   ]
  },
  {
   "cell_type": "code",
   "execution_count": 32,
   "metadata": {},
   "outputs": [
    {
     "name": "stdout",
     "output_type": "stream",
     "text": [
      "['data/names/Czech.txt', 'data/names/German.txt', 'data/names/Arabic.txt', 'data/names/Japanese.txt', 'data/names/Chinese.txt', 'data/names/Vietnamese.txt', 'data/names/Russian.txt', 'data/names/French.txt', 'data/names/Irish.txt', 'data/names/English.txt', 'data/names/Spanish.txt', 'data/names/Greek.txt', 'data/names/Italian.txt', 'data/names/Portuguese.txt', 'data/names/Scottish.txt', 'data/names/Dutch.txt', 'data/names/Korean.txt', 'data/names/Polish.txt']\n"
     ]
    }
   ],
   "source": [
    "from io import open\n",
    "import glob\n",
    "import os\n",
    "\n",
    "def findFiles(path):\n",
    "    return glob.glob(path)\n",
    "\n",
    "print(findFiles('data/names/*.txt'))"
   ]
  },
  {
   "cell_type": "code",
   "execution_count": 33,
   "metadata": {},
   "outputs": [
    {
     "name": "stdout",
     "output_type": "stream",
     "text": [
      "Slusarski\n"
     ]
    }
   ],
   "source": [
    "import unicodedata\n",
    "import string\n",
    "\n",
    "all_letters = string.ascii_letters + \" .,;'\"\n",
    "n_letters = len(all_letters)\n",
    "\n",
    "# Turn a Unicode string to plain ASCII\n",
    "def unicodeToAscii(s):\n",
    "    return ''.join(\n",
    "        c for c in unicodedata.normalize('NFD', s)\n",
    "        if unicodedata.category(c) != 'Mn'\n",
    "        and c in all_letters\n",
    "    )\n",
    "\n",
    "print(unicodeToAscii('Ślusàrski'))"
   ]
  },
  {
   "cell_type": "code",
   "execution_count": 34,
   "metadata": {},
   "outputs": [
    {
     "data": {
      "text/plain": [
       "['Ang',\n",
       " 'AuYong',\n",
       " 'Bai',\n",
       " 'Ban',\n",
       " 'Bao',\n",
       " 'Bei',\n",
       " 'Bian',\n",
       " 'Bui',\n",
       " 'Cai',\n",
       " 'Cao',\n",
       " 'Cen',\n",
       " 'Chai',\n",
       " 'Chaim',\n",
       " 'Chan',\n",
       " 'Chang',\n",
       " 'Chao',\n",
       " 'Che',\n",
       " 'Chen',\n",
       " 'Cheng',\n",
       " 'Cheung',\n",
       " 'Chew',\n",
       " 'Chieu',\n",
       " 'Chin',\n",
       " 'Chong',\n",
       " 'Chou',\n",
       " 'Chu',\n",
       " 'Cui',\n",
       " 'Dai',\n",
       " 'Deng',\n",
       " 'Ding',\n",
       " 'Dong',\n",
       " 'Dou',\n",
       " 'Duan',\n",
       " 'Eng',\n",
       " 'Fan',\n",
       " 'Fei',\n",
       " 'Feng',\n",
       " 'Foong',\n",
       " 'Fung',\n",
       " 'Gan',\n",
       " 'Gauk',\n",
       " 'Geng',\n",
       " 'Gim',\n",
       " 'Gok',\n",
       " 'Gong',\n",
       " 'Guan',\n",
       " 'Guang',\n",
       " 'Guo',\n",
       " 'Gwock',\n",
       " 'Han',\n",
       " 'Hang',\n",
       " 'Hao',\n",
       " 'Hew',\n",
       " 'Hiu',\n",
       " 'Hong',\n",
       " 'Hor',\n",
       " 'Hsiao',\n",
       " 'Hua',\n",
       " 'Huan',\n",
       " 'Huang',\n",
       " 'Hui',\n",
       " 'Huie',\n",
       " 'Huo',\n",
       " 'Jia',\n",
       " 'Jiang',\n",
       " 'Jin',\n",
       " 'Jing',\n",
       " 'Joe',\n",
       " 'Kang',\n",
       " 'Kau',\n",
       " 'Khoo',\n",
       " 'Khu',\n",
       " 'Kong',\n",
       " 'Koo',\n",
       " 'Kwan',\n",
       " 'Kwei',\n",
       " 'Kwong',\n",
       " 'Lai',\n",
       " 'Lam',\n",
       " 'Lang',\n",
       " 'Lau',\n",
       " 'Law',\n",
       " 'Lew',\n",
       " 'Lian',\n",
       " 'Liao',\n",
       " 'Lim',\n",
       " 'Lin',\n",
       " 'Ling',\n",
       " 'Liu',\n",
       " 'Loh',\n",
       " 'Long',\n",
       " 'Loong',\n",
       " 'Luo',\n",
       " 'Mah',\n",
       " 'Mai',\n",
       " 'Mak',\n",
       " 'Mao',\n",
       " 'Mar',\n",
       " 'Mei',\n",
       " 'Meng',\n",
       " 'Miao',\n",
       " 'Min',\n",
       " 'Ming',\n",
       " 'Moy',\n",
       " 'Mui',\n",
       " 'Nie',\n",
       " 'Niu',\n",
       " 'OuYang',\n",
       " 'OwYang',\n",
       " 'Pan',\n",
       " 'Pang',\n",
       " 'Pei',\n",
       " 'Peng',\n",
       " 'Ping',\n",
       " 'Qian',\n",
       " 'Qin',\n",
       " 'Qiu',\n",
       " 'Quan',\n",
       " 'Que',\n",
       " 'Ran',\n",
       " 'Rao',\n",
       " 'Rong',\n",
       " 'Ruan',\n",
       " 'Sam',\n",
       " 'Seah',\n",
       " 'See ',\n",
       " 'Seow',\n",
       " 'Seto',\n",
       " 'Sha',\n",
       " 'Shan',\n",
       " 'Shang',\n",
       " 'Shao',\n",
       " 'Shaw',\n",
       " 'She',\n",
       " 'Shen',\n",
       " 'Sheng',\n",
       " 'Shi',\n",
       " 'Shu',\n",
       " 'Shuai',\n",
       " 'Shui',\n",
       " 'Shum',\n",
       " 'Siew',\n",
       " 'Siu',\n",
       " 'Song',\n",
       " 'Sum',\n",
       " 'Sun',\n",
       " 'Sze ',\n",
       " 'Tan',\n",
       " 'Tang',\n",
       " 'Tao',\n",
       " 'Teng',\n",
       " 'Teoh',\n",
       " 'Thean',\n",
       " 'Thian',\n",
       " 'Thien',\n",
       " 'Tian',\n",
       " 'Tong',\n",
       " 'Tow',\n",
       " 'Tsang',\n",
       " 'Tse',\n",
       " 'Tsen',\n",
       " 'Tso',\n",
       " 'Tze',\n",
       " 'Wan',\n",
       " 'Wang',\n",
       " 'Wei',\n",
       " 'Wen',\n",
       " 'Weng',\n",
       " 'Won',\n",
       " 'Wong',\n",
       " 'Woo',\n",
       " 'Xiang',\n",
       " 'Xiao',\n",
       " 'Xie',\n",
       " 'Xing',\n",
       " 'Xue',\n",
       " 'Xun',\n",
       " 'Yan',\n",
       " 'Yang',\n",
       " 'Yao',\n",
       " 'Yap',\n",
       " 'Yau',\n",
       " 'Yee',\n",
       " 'Yep',\n",
       " 'Yim',\n",
       " 'Yin',\n",
       " 'Ying',\n",
       " 'Yong',\n",
       " 'You',\n",
       " 'Yuan',\n",
       " 'Zang',\n",
       " 'Zeng',\n",
       " 'Zha',\n",
       " 'Zhan',\n",
       " 'Zhang',\n",
       " 'Zhao',\n",
       " 'Zhen',\n",
       " 'Zheng',\n",
       " 'Zhong',\n",
       " 'Zhou',\n",
       " 'Zhu',\n",
       " 'Zhuo',\n",
       " 'Zong',\n",
       " 'Zou',\n",
       " 'Bing',\n",
       " 'Chi',\n",
       " 'Chu',\n",
       " 'Cong',\n",
       " 'Cuan',\n",
       " 'Dan',\n",
       " 'Fei',\n",
       " 'Feng',\n",
       " 'Gai',\n",
       " 'Gao',\n",
       " 'Gou',\n",
       " 'Guan',\n",
       " 'Gui',\n",
       " 'Guo',\n",
       " 'Hong',\n",
       " 'Hou',\n",
       " 'Huan',\n",
       " 'Jian',\n",
       " 'Jiao',\n",
       " 'Jin',\n",
       " 'Jiu',\n",
       " 'Juan',\n",
       " 'Jue',\n",
       " 'Kan',\n",
       " 'Kuai',\n",
       " 'Kuang',\n",
       " 'Kui',\n",
       " 'Lao',\n",
       " 'Liang',\n",
       " 'Lu',\n",
       " 'Luo',\n",
       " 'Man',\n",
       " 'Nao',\n",
       " 'Pian',\n",
       " 'Qiao',\n",
       " 'Qing',\n",
       " 'Qiu',\n",
       " 'Rang',\n",
       " 'Rui',\n",
       " 'She',\n",
       " 'Shi',\n",
       " 'Shuo',\n",
       " 'Sui',\n",
       " 'Tai',\n",
       " 'Wan',\n",
       " 'Wei',\n",
       " 'Xian',\n",
       " 'Xie',\n",
       " 'Xin',\n",
       " 'Xing',\n",
       " 'Xiong',\n",
       " 'Xuan',\n",
       " 'Yan',\n",
       " 'Yin',\n",
       " 'Ying',\n",
       " 'Yuan',\n",
       " 'Yue',\n",
       " 'Yun',\n",
       " 'Zha',\n",
       " 'Zhai',\n",
       " 'Zhang',\n",
       " 'Zhi',\n",
       " 'Zhuan',\n",
       " 'Zhui']"
      ]
     },
     "execution_count": 34,
     "metadata": {},
     "output_type": "execute_result"
    }
   ],
   "source": [
    "# Build the category_lines dictionary, a list of names per language\n",
    "category_lines = {}\n",
    "all_categories = []\n",
    "\n",
    "# Read a file and split into lines\n",
    "def readLines(filename):\n",
    "    lines = open(filename, encoding='utf-8').read().strip().split('\\n')\n",
    "    return [unicodeToAscii(line) for line in lines]\n",
    "\n",
    "readLines('data/names/Chinese.txt')"
   ]
  },
  {
   "cell_type": "code",
   "execution_count": 35,
   "metadata": {},
   "outputs": [
    {
     "name": "stdout",
     "output_type": "stream",
     "text": [
      "18\n",
      "['Czech', 'German', 'Arabic', 'Japanese', 'Chinese', 'Vietnamese', 'Russian', 'French', 'Irish', 'English', 'Spanish', 'Greek', 'Italian', 'Portuguese', 'Scottish', 'Dutch', 'Korean', 'Polish']\n",
      "['Abandonato', 'Abatangelo', 'Abatantuono', 'Abate', 'Abategiovanni']\n"
     ]
    }
   ],
   "source": [
    "for filename in findFiles('data/names/*.txt'):\n",
    "    category = os.path.splitext(os.path.basename(filename))[0]\n",
    "    all_categories.append(category)\n",
    "    lines = readLines(filename)\n",
    "    category_lines[category] = lines\n",
    "\n",
    "n_categories = len(all_categories)\n",
    "print(n_categories)\n",
    "print(all_categories)\n",
    "print(category_lines['Italian'][:5])\n"
   ]
  },
  {
   "cell_type": "markdown",
   "metadata": {},
   "source": [
    "## 将名称转换为张量\n",
    "现在我们已经组织好了所有名称，我们需要将它们转换为张量才能使用它们。\n",
    "\n",
    "为了表示单个字母，我们使用大小为<1 x n_letters>的“one-hot 向量”。one-hot 向量用 0 填充，当前字母的索引处为 1，例如\"b\" = <0 1 0 0 0 ...>。\n",
    "\n",
    "为了组成一个单词，我们将一堆这样的向量连接成一个二维矩阵<line_length x 1 x n_letters>。\n",
    "\n",
    "额外增加的一个维度是因为 PyTorch 假设所有内容都是成批处理的 - 我们在这里只使用了一个大小为 1 的批次。"
   ]
  },
  {
   "cell_type": "code",
   "execution_count": 36,
   "metadata": {},
   "outputs": [
    {
     "name": "stdout",
     "output_type": "stream",
     "text": [
      "abcdefghijklmnopqrstuvwxyzABCDEFGHIJKLMNOPQRSTUVWXYZ .,;'\n",
      "tensor([[1., 0., 0., 0., 0., 0., 0., 0., 0., 0., 0., 0., 0., 0., 0., 0., 0., 0.,\n",
      "         0., 0., 0., 0., 0., 0., 0., 0., 0., 0., 0., 0., 0., 0., 0., 0., 0., 0.,\n",
      "         0., 0., 0., 0., 0., 0., 0., 0., 0., 0., 0., 0., 0., 0., 0., 0., 0., 0.,\n",
      "         0., 0., 0.]])\n"
     ]
    }
   ],
   "source": [
    "import torch\n",
    "\n",
    "# Find letter index from all_letters, e.g. \"a\" = 0\n",
    "print(all_letters)\n",
    "def letterToIndex(letter):\n",
    "    return all_letters.find(letter)\n",
    "\n",
    "# Just for demonstration, turn a letter into a <1 x n_letter> Tensor\n",
    "def letterToTensor(letter):\n",
    "    tensor = torch.zeros(1, n_letters)\n",
    "    tensor[0][letterToIndex(letter)] = 1\n",
    "    return tensor\n",
    "\n",
    "print(letterToTensor('a'))"
   ]
  },
  {
   "cell_type": "code",
   "execution_count": 37,
   "metadata": {},
   "outputs": [
    {
     "name": "stdout",
     "output_type": "stream",
     "text": [
      "torch.Size([5, 1, 57])\n",
      "tensor([[[0., 0., 0., 0., 0., 0., 0., 0., 0., 0., 0., 1., 0., 0., 0., 0., 0.,\n",
      "          0., 0., 0., 0., 0., 0., 0., 0., 0., 0., 0., 0., 0., 0., 0., 0., 0.,\n",
      "          0., 0., 0., 0., 0., 0., 0., 0., 0., 0., 0., 0., 0., 0., 0., 0., 0.,\n",
      "          0., 0., 0., 0., 0., 0.]],\n",
      "\n",
      "        [[0., 0., 0., 0., 0., 0., 0., 0., 1., 0., 0., 0., 0., 0., 0., 0., 0.,\n",
      "          0., 0., 0., 0., 0., 0., 0., 0., 0., 0., 0., 0., 0., 0., 0., 0., 0.,\n",
      "          0., 0., 0., 0., 0., 0., 0., 0., 0., 0., 0., 0., 0., 0., 0., 0., 0.,\n",
      "          0., 0., 0., 0., 0., 0.]],\n",
      "\n",
      "        [[0., 0., 0., 0., 0., 0., 0., 0., 0., 0., 0., 0., 0., 1., 0., 0., 0.,\n",
      "          0., 0., 0., 0., 0., 0., 0., 0., 0., 0., 0., 0., 0., 0., 0., 0., 0.,\n",
      "          0., 0., 0., 0., 0., 0., 0., 0., 0., 0., 0., 0., 0., 0., 0., 0., 0.,\n",
      "          0., 0., 0., 0., 0., 0.]],\n",
      "\n",
      "        [[0., 0., 0., 0., 1., 0., 0., 0., 0., 0., 0., 0., 0., 0., 0., 0., 0.,\n",
      "          0., 0., 0., 0., 0., 0., 0., 0., 0., 0., 0., 0., 0., 0., 0., 0., 0.,\n",
      "          0., 0., 0., 0., 0., 0., 0., 0., 0., 0., 0., 0., 0., 0., 0., 0., 0.,\n",
      "          0., 0., 0., 0., 0., 0.]],\n",
      "\n",
      "        [[0., 0., 0., 0., 0., 0., 0., 0., 0., 0., 0., 0., 0., 0., 0., 0., 0.,\n",
      "          0., 1., 0., 0., 0., 0., 0., 0., 0., 0., 0., 0., 0., 0., 0., 0., 0.,\n",
      "          0., 0., 0., 0., 0., 0., 0., 0., 0., 0., 0., 0., 0., 0., 0., 0., 0.,\n",
      "          0., 0., 0., 0., 0., 0.]]])\n"
     ]
    }
   ],
   "source": [
    "# Turn a line into a <line_length x 1 x n_letters>,\n",
    "# or an array of one-hot letter vectors\n",
    "def lineToTensor(line):\n",
    "    tensor = torch.zeros(len(line), 1, n_letters)\n",
    "    for li, letter in enumerate(line):\n",
    "        tensor[li][0][letterToIndex(letter)] = 1\n",
    "    return tensor\n",
    "\n",
    "print(lineToTensor('lines').size())\n",
    "print(lineToTensor('lines'))"
   ]
  },
  {
   "cell_type": "markdown",
   "metadata": {},
   "source": [
    "## 创建网络\n",
    "在自动微分之前，在 Torch 中创建循环神经网络需要在多个时间步长上克隆一个层的参数。这些层保存着隐藏状态和梯度，现在完全由图本身处理。这意味着您可以以一种非常“纯粹”的方式实现 RNN，就像常规的前馈层一样。\n",
    "\n",
    "这个 RNN 模块实现了一个“普通 RNN”，它只有 3 个线性层，作用于输入和隐藏状态，输出后有一个LogSoftmax层。"
   ]
  },
  {
   "cell_type": "code",
   "execution_count": 38,
   "metadata": {},
   "outputs": [
    {
     "name": "stdout",
     "output_type": "stream",
     "text": [
      "RNN(\n",
      "  (i2h): Linear(in_features=57, out_features=128, bias=True)\n",
      "  (h2h): Linear(in_features=128, out_features=128, bias=True)\n",
      "  (h2o): Linear(in_features=128, out_features=18, bias=True)\n",
      "  (softmax): LogSoftmax(dim=1)\n",
      ")\n"
     ]
    }
   ],
   "source": [
    "import torch.nn as nn\n",
    "import torch.nn.functional as F\n",
    "\n",
    "class RNN(nn.Module):\n",
    "    def __init__(self, input_size, hidden_size, output_size):\n",
    "        super(RNN, self).__init__()\n",
    "\n",
    "        self.hidden_size = hidden_size\n",
    "        \n",
    "        self.i2h = nn.Linear(input_size, hidden_size)\n",
    "        self.h2h = nn.Linear(hidden_size, hidden_size)\n",
    "        self.h2o = nn.Linear(hidden_size, output_size)\n",
    "        self.softmax = nn.LogSoftmax(dim=1)\n",
    "\n",
    "    def forward(self, input, hidden):\n",
    "        hidden = F.tanh(self.i2h(input) + self.h2h(hidden))\n",
    "        output = self.h2o(hidden)\n",
    "        output = self.softmax(output)\n",
    "        return output, hidden\n",
    "    \n",
    "    def initHidden(self):\n",
    "        return torch.zeros(1, self.hidden_size)\n",
    "\n",
    "n_hidden = 128\n",
    "\n",
    "rnn = RNN(n_letters, n_hidden, n_categories)\n",
    "print(rnn)"
   ]
  },
  {
   "cell_type": "markdown",
   "metadata": {},
   "source": [
    "为了运行该网络的一个步骤，我们需要传递一个输入（在我们的例子中，是当前字母的张量）和一个先前的隐藏状态（我们首先将其初始化为零）。我们将得到输出（每种语言的概率）和下一个隐藏状态（我们将其保留到下一步）。"
   ]
  },
  {
   "cell_type": "code",
   "execution_count": 39,
   "metadata": {},
   "outputs": [],
   "source": [
    "input = letterToTensor('A')\n",
    "hidden = torch.zeros(1, n_hidden)\n",
    "\n",
    "output, next_hidden = rnn(input, hidden)\n"
   ]
  },
  {
   "cell_type": "markdown",
   "metadata": {},
   "source": [
    "为了提高效率，我们不想为每个步骤都创建一个新的张量，因此我们将使用lineToTensor而不是letterToTensor并使用切片。可以通过预先计算张量批次来进一步优化这一点。"
   ]
  },
  {
   "cell_type": "code",
   "execution_count": 40,
   "metadata": {},
   "outputs": [
    {
     "name": "stdout",
     "output_type": "stream",
     "text": [
      "tensor([[-3.0328, -2.6893, -2.9360, -2.8266, -3.0023, -2.9110, -2.9152, -2.9825,\n",
      "         -2.8801, -2.9929, -2.8403, -2.8714, -2.9081, -2.9139, -2.9465, -2.7298,\n",
      "         -2.8410, -2.8755]], grad_fn=<LogSoftmaxBackward0>)\n"
     ]
    }
   ],
   "source": [
    "input = lineToTensor('Albert')\n",
    "hidden = torch.zeros(1, n_hidden)\n",
    "\n",
    "output, next_hidden = rnn(input[0], hidden)\n",
    "print(output)"
   ]
  },
  {
   "cell_type": "markdown",
   "metadata": {},
   "source": [
    "## 训练\n",
    "\n",
    "### 训练准备\n",
    "在开始训练之前，我们应该编写一些辅助函数。第一个是解释网络的输出，我们知道它是每个类别的可能性。我们可以使用Tensor.topk来获取最大值的索引"
   ]
  },
  {
   "cell_type": "code",
   "execution_count": 41,
   "metadata": {},
   "outputs": [
    {
     "name": "stdout",
     "output_type": "stream",
     "text": [
      "('German', 1)\n"
     ]
    }
   ],
   "source": [
    "def categoryFromOutput(output):\n",
    "    top_n, top_i = output.topk(1)\n",
    "    category_i = top_i[0].item()\n",
    "    return all_categories[category_i], category_i\n",
    "\n",
    "print(categoryFromOutput(output))"
   ]
  },
  {
   "cell_type": "markdown",
   "metadata": {},
   "source": [
    "我们还需要一种快速获取训练样本的方法"
   ]
  },
  {
   "cell_type": "code",
   "execution_count": 42,
   "metadata": {},
   "outputs": [
    {
     "name": "stdout",
     "output_type": "stream",
     "text": [
      "category = Chinese, line = Tan\n",
      "category = Vietnamese, line = Do\n",
      "category = Spanish, line = Lopez\n",
      "category = Korean, line = Yun\n",
      "category = Spanish, line = Abaroa\n",
      "category = Portuguese, line = Abreu\n",
      "category = Czech, line = Votke\n",
      "category = Chinese, line = Lian\n",
      "category = Greek, line = Protopsaltis\n",
      "category = Russian, line = Plisetsky\n"
     ]
    }
   ],
   "source": [
    "import random\n",
    "\n",
    "def randomChoice(l):\n",
    "    return l[random.randint(0, len(l) - 1)]\n",
    "\n",
    "def randomTrainingExample():\n",
    "    category = randomChoice(all_categories)\n",
    "    line = randomChoice(category_lines[category])\n",
    "    category_tensor = torch.tensor([all_categories.index(category)], dtype=torch.long)\n",
    "    line_tensor = lineToTensor(line)\n",
    "    return category, line, category_tensor, line_tensor\n",
    "\n",
    "for i in range(10):\n",
    "    category, line, category_tensor, line_tensor = randomTrainingExample()\n",
    "    print(f'category = {category}, line = {line}')"
   ]
  },
  {
   "cell_type": "markdown",
   "metadata": {},
   "source": [
    "### 训练网络\n",
    "\n",
    "现在，训练这个网络所需要做的就是向它展示一堆例子，让它进行猜测，并告诉它是否错了。\n",
    "\n",
    "对于损失函数，nn.NLLLoss是合适的，因为 RNN 的最后一层是nn.LogSoftmax。"
   ]
  },
  {
   "cell_type": "code",
   "execution_count": 46,
   "metadata": {},
   "outputs": [],
   "source": [
    "criterion = nn.NLLLoss()"
   ]
  },
  {
   "cell_type": "markdown",
   "metadata": {},
   "source": [
    "训练的每个循环都将\n",
    "\n",
    "- 创建输入和目标张量\n",
    "\n",
    "- 创建一个初始化为零的隐藏状态\n",
    "\n",
    "- 读取每个字母并\n",
    "\n",
    "  - 保留下一个字母的隐藏状态\n",
    "\n",
    "- 将最终输出与目标进行比较\n",
    "\n",
    "- 反向传播\n",
    "\n",
    "- 返回输出和损失"
   ]
  },
  {
   "cell_type": "code",
   "execution_count": 44,
   "metadata": {},
   "outputs": [],
   "source": [
    "learning_rate = 0.005\n",
    "\n",
    "def train(category_tensor, line_tensor):\n",
    "    hidden = rnn.initHidden()\n",
    "\n",
    "    rnn.zero_grad()\n",
    "\n",
    "    for i in range(line_tensor.size()[0]):\n",
    "        output, hidden = rnn(line_tensor[i], hidden)\n",
    "    loss = criterion(output, category_tensor)\n",
    "    loss.backward()\n",
    "\n",
    "    for p in rnn.parameters():\n",
    "        p.data.add_(p.grad.data, alpha=-learning_rate)\n",
    "    \n",
    "    return output, loss.item()"
   ]
  },
  {
   "cell_type": "markdown",
   "metadata": {},
   "source": [
    "现在我们只需要用一堆例子来运行它。由于train函数同时返回输出和损失，我们可以打印它的猜测，并跟踪损失以进行绘图。由于有数千个示例，我们只打印每print_every个示例，并取损失的平均值。"
   ]
  },
  {
   "cell_type": "code",
   "execution_count": 47,
   "metadata": {},
   "outputs": [
    {
     "name": "stdout",
     "output_type": "stream",
     "text": [
      "5000 5% (0m 11s) 1.9284 Jimenez / Spanish ✓\n",
      "10000 10% (0m 20s) 0.6396 Niemczyk / Polish ✓\n",
      "15000 15% (0m 30s) 0.9332 Anderson / Scottish ✓\n",
      "20000 20% (0m 41s) 3.6514 Habich / Arabic ✗ (German)\n",
      "25000 25% (0m 51s) 2.0113 Arendonk / Czech ✗ (Dutch)\n",
      "30000 30% (1m 1s) 2.1215 Stauss / Arabic ✗ (German)\n",
      "35000 35% (1m 12s) 0.8772 Fukusaku / Japanese ✓\n",
      "40000 40% (1m 22s) 0.4071 Yue / Chinese ✓\n",
      "45000 45% (1m 31s) 0.5654 Chang / Korean ✓\n",
      "50000 50% (1m 41s) 0.1061 Dickson / Scottish ✓\n",
      "55000 55% (1m 51s) 1.4798 Essa / Czech ✗ (Arabic)\n",
      "60000 60% (2m 1s) 0.2096 Acciai / Italian ✓\n",
      "65000 65% (2m 10s) 0.4759 Soares / Portuguese ✓\n",
      "70000 70% (2m 21s) 1.5383 Lawler / German ✗ (English)\n",
      "75000 75% (2m 31s) 1.5899 Lian / Irish ✗ (Chinese)\n",
      "80000 80% (2m 41s) 0.8821 Howells / English ✓\n",
      "85000 85% (2m 59s) 1.0833 Lindsay / English ✗ (Scottish)\n",
      "90000 90% (3m 18s) 1.3560 Roles / Spanish ✗ (English)\n",
      "95000 95% (3m 36s) 0.0418 Biancardi / Italian ✓\n",
      "100000 100% (3m 54s) 0.1030 Arian / Arabic ✓\n"
     ]
    }
   ],
   "source": [
    "import time\n",
    "import math\n",
    "\n",
    "n_iters = 100000\n",
    "print_every = 5000\n",
    "plot_every = 1000\n",
    "\n",
    "current_loss = 0\n",
    "all_losses = []\n",
    "\n",
    "def timeSince(since):\n",
    "    now = time.time()\n",
    "    s = now - since\n",
    "    m = math.floor(s/60)\n",
    "    s -= m*60\n",
    "    return '%dm %ds' % (m, s)\n",
    "\n",
    "start = time.time()\n",
    "\n",
    "for iter in range(1, n_iters + 1):\n",
    "    category, line, category_tensor, line_tensor = randomTrainingExample()\n",
    "    output, loss = train(category_tensor, line_tensor)\n",
    "    current_loss += loss\n",
    "\n",
    "    if iter % print_every == 0:\n",
    "        guess, guess_i = categoryFromOutput(output)\n",
    "        correct = '✓' if guess == category else '✗ (%s)' % category\n",
    "        print('%d %d%% (%s) %.4f %s / %s %s' % (iter, iter / n_iters * 100, timeSince(start), loss, line, guess, correct))\n",
    "\n",
    "    # Add current loss avg to list of losses\n",
    "    if iter % plot_every == 0:\n",
    "        all_losses.append(current_loss / plot_every)\n",
    "        current_loss = 0"
   ]
  },
  {
   "cell_type": "markdown",
   "metadata": {},
   "source": [
    "绘制all_losses的历史损失表明网络正在学习"
   ]
  },
  {
   "cell_type": "code",
   "execution_count": 48,
   "metadata": {},
   "outputs": [
    {
     "data": {
      "text/plain": [
       "[<matplotlib.lines.Line2D at 0x12096e310>]"
      ]
     },
     "execution_count": 48,
     "metadata": {},
     "output_type": "execute_result"
    },
    {
     "data": {
      "image/png": "[encoded data removed]",
      "text/plain": [
       "<Figure size 640x480 with 1 Axes>"
      ]
     },
     "metadata": {},
     "output_type": "display_data"
    }
   ],
   "source": [
    "import matplotlib.pyplot as plt\n",
    "import matplotlib.ticker as ticker\n",
    "\n",
    "plt.figure()\n",
    "plt.plot(all_losses)"
   ]
  },
  {
   "cell_type": "markdown",
   "metadata": {},
   "source": [
    "## 评估结果\n",
    "为了查看网络在不同类别上的表现，我们将创建一个混淆矩阵，指示每种实际语言（行）网络猜测的语言（列）。为了计算混淆矩阵，大量的样本通过evaluate()函数在网络中运行，该函数与train()函数相同，只是没有反向传播。"
   ]
  },
  {
   "cell_type": "code",
   "execution_count": 50,
   "metadata": {},
   "outputs": [
    {
     "name": "stderr",
     "output_type": "stream",
     "text": [
      "/var/folders/z6/xyr54v4n0yv32nvm7h202xyc0000gn/T/ipykernel_92907/2014343748.py:29: UserWarning: set_ticklabels() should only be used with a fixed number of ticks, i.e. after set_ticks() or using a FixedLocator.\n",
      "  ax.set_xticklabels([''] + all_categories, rotation=90)\n",
      "/var/folders/z6/xyr54v4n0yv32nvm7h202xyc0000gn/T/ipykernel_92907/2014343748.py:30: UserWarning: set_ticklabels() should only be used with a fixed number of ticks, i.e. after set_ticks() or using a FixedLocator.\n",
      "  ax.set_yticklabels([''] + all_categories)\n"
     ]
    },
    {
     "data": {
      "image/png": "[encoded data removed]",
      "text/plain": [
       "<Figure size 640x480 with 2 Axes>"
      ]
     },
     "metadata": {},
     "output_type": "display_data"
    }
   ],
   "source": [
    "confusion = torch.zeros(n_categories, n_categories)\n",
    "n_confusion = 10000\n",
    "\n",
    "def evaluate(line_tensor):\n",
    "    hidden = rnn.initHidden()\n",
    "\n",
    "    for i in range(line_tensor.size()[0]):\n",
    "        output, hidden = rnn(line_tensor[i], hidden)\n",
    "    \n",
    "    return output\n",
    "\n",
    "for i in range(n_confusion):\n",
    "    category, line, category_tensor, line_tensor = randomTrainingExample()\n",
    "    output = evaluate(line_tensor)\n",
    "    guess, guess_i = categoryFromOutput(output)\n",
    "    category_i = all_categories.index(category)\n",
    "    confusion[category_i][guess_i] += 1\n",
    "\n",
    "for i in range(n_categories):\n",
    "    confusion[i] = confusion[i] / confusion[i].sum()\n",
    "\n",
    "# Set up plot\n",
    "fig = plt.figure()\n",
    "ax = fig.add_subplot(111)\n",
    "cax = ax.matshow(confusion.numpy())\n",
    "fig.colorbar(cax)\n",
    "\n",
    "# Set up axes\n",
    "ax.set_xticklabels([''] + all_categories, rotation=90)\n",
    "ax.set_yticklabels([''] + all_categories)\n",
    "\n",
    "# Force label at every tick\n",
    "ax.xaxis.set_major_locator(ticker.MultipleLocator(1))\n",
    "ax.yaxis.set_major_locator(ticker.MultipleLocator(1))\n",
    "\n",
    "# sphinx_gallery_thumbnail_number = 2\n",
    "plt.show()"
   ]
  },
  {
   "cell_type": "markdown",
   "metadata": {},
   "source": [
    "您可以从主轴上找出亮点，这些亮点表明了它猜测错误的语言，例如，将中文误认为韩语，将西班牙语误认为意大利语。它似乎在希腊语方面做得很好，而在英语方面做得非常差（可能是因为它与其他语言重叠）。"
   ]
  },
  {
   "cell_type": "markdown",
   "metadata": {},
   "source": [
    "## 运行用户输入"
   ]
  },
  {
   "cell_type": "code",
   "execution_count": 51,
   "metadata": {},
   "outputs": [
    {
     "name": "stdout",
     "output_type": "stream",
     "text": [
      "\n",
      "> Dovesky\n",
      "(-0.42) Russian\n",
      "(-1.23) Czech\n",
      "(-3.81) Irish\n",
      "\n",
      "> Jackson\n",
      "(-0.15) Scottish\n",
      "(-2.64) Czech\n",
      "(-2.89) English\n",
      "\n",
      "> Satoshi\n",
      "(-0.70) Japanese\n",
      "(-1.13) Arabic\n",
      "(-1.92) Italian\n"
     ]
    }
   ],
   "source": [
    "def predict(input_line, n_predictions = 3):\n",
    "    print('\\n> %s' % input_line)\n",
    "    with torch.no_grad():\n",
    "        output = evaluate(lineToTensor(input_line))\n",
    "        topv, topi = output.topk(n_predictions, 1, True)\n",
    "        predictions = []\n",
    "\n",
    "        for i in range(n_predictions):\n",
    "            value = topv[0][i].item()\n",
    "            category_index = topi[0][i].item()\n",
    "            print('(%.2f) %s' % (value, all_categories[category_index]))\n",
    "            predictions.append([value, all_categories[category_index]])\n",
    "\n",
    "predict('Dovesky')\n",
    "predict('Jackson')\n",
    "predict('Satoshi')"
   ]
  },
  {
   "cell_type": "code",
   "execution_count": null,
   "metadata": {},
   "outputs": [],
   "source": []
  }
 ],
 "metadata": {
  "kernelspec": {
   "display_name": "Python 3",
   "language": "python",
   "name": "python3"
  },
  "language_info": {
   "codemirror_mode": {
    "name": "ipython",
    "version": 3
   },
   "file_extension": ".py",
   "mimetype": "text/x-python",
   "name": "python",
   "nbconvert_exporter": "python",
   "pygments_lexer": "ipython3",
   "version": "3.9.6"
  }
 },
 "nbformat": 4,
 "nbformat_minor": 2
}
