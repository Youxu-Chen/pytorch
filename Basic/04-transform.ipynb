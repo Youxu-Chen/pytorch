{
 "cells": [
  {
   "cell_type": "markdown",
   "metadata": {},
   "source": [
    "# 变换\n",
    "数据并不总是以训练机器学习算法所需的最终处理形式出现。我们使用变换对数据进行一些操作，使其适合训练。\n",
    "\n",
    "所有 TorchVision 数据集都有两个参数 - 用于修改特征的 `transform` 和用于修改标签的 `target_transform` - 它们接受包含变换逻辑的可调用对象。`torchvision.transforms` 模块提供了几个常用的开箱即用变换。\n",
    "\n",
    "FashionMNIST 特征采用 PIL 图像格式，标签为整数。对于训练，我们需要将特征转换为归一化张量，将标签转换为独热编码张量。为了进行这些转换，我们使用 ToTensor 和 Lambda。"
   ]
  },
  {
   "cell_type": "code",
   "execution_count": 6,
   "metadata": {},
   "outputs": [
    {
     "data": {
      "text/plain": [
       "60000"
      ]
     },
     "execution_count": 6,
     "metadata": {},
     "output_type": "execute_result"
    }
   ],
   "source": [
    "import torch\n",
    "from torchvision import datasets\n",
    "from torchvision.transforms import ToTensor, Lambda\n",
    "\n",
    "ds = datasets.FashionMNIST(\n",
    "    root=\"data\",\n",
    "    train=True,\n",
    "    transform=ToTensor(),\n",
    "    target_transform=Lambda(lambda y: torch.zeros(10, dtype=torch.float).scatter_(0, torch.tensor(y), value=1))\n",
    ")\n"
   ]
  },
  {
   "cell_type": "markdown",
   "metadata": {},
   "source": [
    "# ToTensor变化\n",
    "ToTensor 将 PIL 图像或 NumPy ndarray 转换为 FloatTensor，并将图像的像素强度值缩放到 [0., 1.] 范围内"
   ]
  },
  {
   "cell_type": "markdown",
   "metadata": {},
   "source": [
    "# Lambda变换\n",
    "Lambda 变换应用任何用户定义的 lambda 函数。在这里，我们定义了一个函数，将整数转换为独热编码的张量。它首先创建一个大小为 10（我们数据集中标签的数量）的零张量，并调用 scatter_，它在标签 y 给出的索引上赋值 value=1。"
   ]
  },
  {
   "cell_type": "code",
   "execution_count": 10,
   "metadata": {},
   "outputs": [],
   "source": [
    "target_transform = Lambda(lambda y: torch.zeros(\n",
    "    10, dtype=torch.float).scatter_(dim=0, index=torch.tensor(y), value=1))"
   ]
  }
 ],
 "metadata": {
  "kernelspec": {
   "display_name": "Python 3",
   "language": "python",
   "name": "python3"
  },
  "language_info": {
   "codemirror_mode": {
    "name": "ipython",
    "version": 3
   },
   "file_extension": ".py",
   "mimetype": "text/x-python",
   "name": "python",
   "nbconvert_exporter": "python",
   "pygments_lexer": "ipython3",
   "version": "3.9.6"
  }
 },
 "nbformat": 4,
 "nbformat_minor": 2
}
