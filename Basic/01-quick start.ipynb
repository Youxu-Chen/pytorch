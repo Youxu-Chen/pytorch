{
 "cells": [
  {
   "cell_type": "markdown",
   "metadata": {},
   "source": [
    "# 处理数据\n",
    "PyTorch 提供了两种用于处理数据的基本组件：torch.utils.data.DataLoader 和 torch.utils.data.Dataset。 \n",
    "Dataset 存储样本及其对应的标签，而 DataLoader 在 Dataset 周围包装一个可迭代对象。"
   ]
  },
  {
   "cell_type": "code",
   "execution_count": 16,
   "metadata": {},
   "outputs": [],
   "source": [
    "import torch\n",
    "from torch import nn\n",
    "from torch.utils.data import DataLoader\n",
    "from torchvision import datasets\n",
    "from torchvision.transforms import ToTensor"
   ]
  },
  {
   "cell_type": "markdown",
   "metadata": {},
   "source": [
    "PyTorch 提供了特定领域的库，例如 TorchText、TorchVision 和 TorchAudio，它们都包含数据集。在本教程中，我们将使用 TorchVision 数据集。\n",
    "\n",
    "torchvision.datasets 模块包含许多现实世界视觉数据的 Dataset 对象，例如 CIFAR、COCO (完整列表在此)。在本教程中，我们使用 FashionMNIST 数据集。每个 TorchVision Dataset 包含两个参数：transform 和 target_transform，分别用于修改样本和标签。"
   ]
  },
  {
   "cell_type": "code",
   "execution_count": 17,
   "metadata": {},
   "outputs": [],
   "source": [
    "# Download training data from open datasets\n",
    "training_data = datasets.FashionMNIST(\n",
    "    root=\"data\",\n",
    "    train=True,\n",
    "    download=True,\n",
    "    transform=ToTensor(),\n",
    ")\n",
    "\n",
    "# Download test data from open dataset\n",
    "test_data = datasets.FashionMNIST(\n",
    "    root=\"data\",\n",
    "    train=False,\n",
    "    download=True,\n",
    "    transform=ToTensor(),\n",
    ")"
   ]
  },
  {
   "cell_type": "markdown",
   "metadata": {},
   "source": [
    "我们将 Dataset 作为参数传递给 DataLoader。这将包装一个可迭代对象，用于遍历我们的数据集，并支持自动批处理、采样、洗牌和多进程数据加载。在这里，我们定义了一个批次大小为 64，即数据加载器可迭代对象中的每个元素将返回一个包含 64 个特征和标签的批次。"
   ]
  },
  {
   "cell_type": "code",
   "execution_count": 18,
   "metadata": {},
   "outputs": [
    {
     "name": "stdout",
     "output_type": "stream",
     "text": [
      "Shaper of X [N, C, H, W]: torch.Size([64, 1, 28, 28])\n",
      "Shaper of y: torch.Size([64])\n"
     ]
    }
   ],
   "source": [
    "batch_size = 64\n",
    "\n",
    "# Create data loaders\n",
    "train_dataloader = DataLoader(training_data, batch_size=batch_size)\n",
    "test_dataloader = DataLoader(test_data, batch_size=batch_size)\n",
    "\n",
    "for X, y in test_dataloader:\n",
    "    print(f\"Shaper of X [N, C, H, W]: {X.shape}\")\n",
    "    print(f\"Shaper of y: {y.shape}\")\n",
    "    break\n"
   ]
  },
  {
   "cell_type": "markdown",
   "metadata": {},
   "source": [
    "# 创建模型\n",
    "为了在 PyTorch 中定义一个神经网络，我们创建一个继承自 nn.Module 的类。我们在 __init__ 函数中定义网络的层，并在 forward 函数中指定数据如何通过网络传递。为了加速神经网络中的操作，我们将它移动到 GPU 或 MPS（如果可用）。"
   ]
  },
  {
   "cell_type": "code",
   "execution_count": 19,
   "metadata": {},
   "outputs": [
    {
     "name": "stdout",
     "output_type": "stream",
     "text": [
      "Using cuda device\n"
     ]
    }
   ],
   "source": [
    "# Get cpu, gpu or mps device for training\n",
    "device = (\n",
    "    \"cuda\"\n",
    "    if torch.cuda.is_available()\n",
    "    else \"mps\"\n",
    "    if torch.backends.mps.is_available()\n",
    "    else \"cpu\"\n",
    ")\n",
    "print(f\"Using {device} device\")"
   ]
  },
  {
   "cell_type": "code",
   "execution_count": 20,
   "metadata": {},
   "outputs": [
    {
     "name": "stdout",
     "output_type": "stream",
     "text": [
      "NeuralNetwork(\n",
      "  (flatten): Flatten(start_dim=1, end_dim=-1)\n",
      "  (linear_relu_stack): Sequential(\n",
      "    (0): Linear(in_features=784, out_features=512, bias=True)\n",
      "    (1): ReLU()\n",
      "    (2): Linear(in_features=512, out_features=512, bias=True)\n",
      "    (3): ReLU()\n",
      "    (4): Linear(in_features=512, out_features=10, bias=True)\n",
      "  )\n",
      ")\n"
     ]
    }
   ],
   "source": [
    "# Define model\n",
    "class NeuralNetwork(nn.Module):\n",
    "    def __init__(self):\n",
    "        super().__init__()\n",
    "        self.flatten = nn.Flatten()\n",
    "        self.linear_relu_stack = nn.Sequential(\n",
    "            nn.Linear(28*28, 512),\n",
    "            nn.ReLU(),\n",
    "            nn.Linear(512, 512),\n",
    "            nn.ReLU(),\n",
    "            nn.Linear(512, 10)\n",
    "        )\n",
    "\n",
    "    def forward(self, x):\n",
    "        x = self.flatten(x)\n",
    "        logits = self.linear_relu_stack(x)\n",
    "        return logits\n",
    "        \n",
    "model = NeuralNetwork().to(device)\n",
    "print(model)"
   ]
  },
  {
   "cell_type": "markdown",
   "metadata": {},
   "source": [
    "# 优化模型参数\n",
    "为了训练模型，我们需要一个损失函数和一个优化器。"
   ]
  },
  {
   "cell_type": "code",
   "execution_count": 21,
   "metadata": {},
   "outputs": [],
   "source": [
    "loss_fn = nn.CrossEntropyLoss()\n",
    "optimizer = torch.optim.SGD(model.parameters(), lr=1e-3)"
   ]
  },
  {
   "cell_type": "markdown",
   "metadata": {},
   "source": [
    "在单个训练循环中，模型会对训练数据集（分批次输入）进行预测，并将预测误差反向传播以调整模型参数。"
   ]
  },
  {
   "cell_type": "code",
   "execution_count": 22,
   "metadata": {},
   "outputs": [],
   "source": [
    "def train(dataloader, model, loss_fn, optimizer):\n",
    "    size = len(dataloader.dataset)\n",
    "    model.train()\n",
    "    for batch, (X, y) in enumerate(dataloader):\n",
    "        X, y = X.to(device), y.to(device)\n",
    "\n",
    "        # Compute prediction error\n",
    "        pred = model(X)\n",
    "        loss = loss_fn(pred, y)\n",
    "\n",
    "        # Backpropagation\n",
    "        loss.backward()\n",
    "        optimizer.step()\n",
    "        optimizer.zero_grad()\n",
    "\n",
    "        if batch % 100 == 0:\n",
    "            loss, current = loss.item(), (batch + 1) * len(X)\n",
    "            print(f\"loss: {loss:>7f}  [{current:>5d}/{size:>5d}]\")"
   ]
  },
  {
   "cell_type": "markdown",
   "metadata": {},
   "source": [
    "我们还会检查模型在测试数据集上的表现，以确保它正在学习。"
   ]
  },
  {
   "cell_type": "code",
   "execution_count": 23,
   "metadata": {},
   "outputs": [],
   "source": [
    "def test(dataloader, model, loss_fn):\n",
    "    size = len(dataloader.dataset)\n",
    "    num_batches = len(dataloader)\n",
    "    model.eval()\n",
    "    test_loss, correct = 0, 0\n",
    "    with torch.no_grad():\n",
    "        for X, y in dataloader:\n",
    "                X, y = X.to(device), y.to(device)\n",
    "                pred = model(X)\n",
    "                test_loss += loss_fn(pred, y).item()\n",
    "                correct += (pred.argmax(1) == y).type(torch.float).sum().item()\n",
    "    test_loss /= num_batches\n",
    "    correct /= size\n",
    "    print(f\"Test Error: \\n Accuracy: {(100*correct):>0.1f}%, Avg loss: {test_loss:>8f} \\n\")"
   ]
  },
  {
   "cell_type": "markdown",
   "metadata": {},
   "source": [
    "训练过程会进行多次迭代（epochs）。在每个 epoch 中，模型都会学习参数以做出更好的预测。我们会在每个 epoch 打印模型的准确率和损失；我们希望看到准确率随着每个 epoch 的增加而增加，损失随着每个 epoch 的增加而减少。"
   ]
  },
  {
   "cell_type": "code",
   "execution_count": 25,
   "metadata": {},
   "outputs": [
    {
     "name": "stdout",
     "output_type": "stream",
     "text": [
      "Epoch 1\n",
      "-------------------------------\n",
      "loss: 1.157241  [   64/60000]\n",
      "loss: 1.166576  [ 6464/60000]\n",
      "loss: 0.975913  [12864/60000]\n",
      "loss: 1.120464  [19264/60000]\n",
      "loss: 0.986848  [25664/60000]\n",
      "loss: 1.014645  [32064/60000]\n",
      "loss: 1.054751  [38464/60000]\n",
      "loss: 0.991111  [44864/60000]\n",
      "loss: 1.041986  [51264/60000]\n",
      "loss: 0.981718  [57664/60000]\n",
      "Test Error: \n",
      " Accuracy: 65.7%, Avg loss: 0.984065 \n",
      "\n",
      "Epoch 2\n",
      "-------------------------------\n",
      "loss: 1.037919  [   64/60000]\n",
      "loss: 1.069808  [ 6464/60000]\n",
      "loss: 0.861237  [12864/60000]\n",
      "loss: 1.027251  [19264/60000]\n",
      "loss: 0.893974  [25664/60000]\n",
      "loss: 0.922105  [32064/60000]\n",
      "loss: 0.976419  [38464/60000]\n",
      "loss: 0.916424  [44864/60000]\n",
      "loss: 0.962714  [51264/60000]\n",
      "loss: 0.917235  [57664/60000]\n",
      "Test Error: \n",
      " Accuracy: 66.9%, Avg loss: 0.911707 \n",
      "\n",
      "Epoch 3\n",
      "-------------------------------\n",
      "loss: 0.951085  [   64/60000]\n",
      "loss: 1.003418  [ 6464/60000]\n",
      "loss: 0.779468  [12864/60000]\n",
      "loss: 0.961533  [19264/60000]\n",
      "loss: 0.832293  [25664/60000]\n",
      "loss: 0.855099  [32064/60000]\n",
      "loss: 0.921993  [38464/60000]\n",
      "loss: 0.867015  [44864/60000]\n",
      "loss: 0.906047  [51264/60000]\n",
      "loss: 0.871066  [57664/60000]\n",
      "Test Error: \n",
      " Accuracy: 68.3%, Avg loss: 0.859970 \n",
      "\n",
      "Epoch 4\n",
      "-------------------------------\n",
      "loss: 0.885132  [   64/60000]\n",
      "loss: 0.953824  [ 6464/60000]\n",
      "loss: 0.718677  [12864/60000]\n",
      "loss: 0.912703  [19264/60000]\n",
      "loss: 0.788433  [25664/60000]\n",
      "loss: 0.804842  [32064/60000]\n",
      "loss: 0.881076  [38464/60000]\n",
      "loss: 0.833007  [44864/60000]\n",
      "loss: 0.863783  [51264/60000]\n",
      "loss: 0.835587  [57664/60000]\n",
      "Test Error: \n",
      " Accuracy: 69.6%, Avg loss: 0.820763 \n",
      "\n",
      "Epoch 5\n",
      "-------------------------------\n",
      "loss: 0.832645  [   64/60000]\n",
      "loss: 0.913747  [ 6464/60000]\n",
      "loss: 0.671348  [12864/60000]\n",
      "loss: 0.874836  [19264/60000]\n",
      "loss: 0.755019  [25664/60000]\n",
      "loss: 0.765800  [32064/60000]\n",
      "loss: 0.847942  [38464/60000]\n",
      "loss: 0.807937  [44864/60000]\n",
      "loss: 0.830957  [51264/60000]\n",
      "loss: 0.806691  [57664/60000]\n",
      "Test Error: \n",
      " Accuracy: 70.9%, Avg loss: 0.789480 \n",
      "\n",
      "Done!\n"
     ]
    }
   ],
   "source": [
    "epochs = 5\n",
    "for t in range(epochs):\n",
    "    print(f\"Epoch {t+1}\\n-------------------------------\")\n",
    "    train(train_dataloader, model, loss_fn, optimizer)\n",
    "    test(test_dataloader, model, loss_fn)\n",
    "print(\"Done!\")"
   ]
  },
  {
   "cell_type": "markdown",
   "metadata": {},
   "source": [
    "# 保存模型\n",
    "保存模型的一种常见方法是序列化内部状态字典（包含模型参数）。"
   ]
  },
  {
   "cell_type": "code",
   "execution_count": 26,
   "metadata": {},
   "outputs": [
    {
     "name": "stdout",
     "output_type": "stream",
     "text": [
      "Saved PyTorch Model State to model.pth\n"
     ]
    }
   ],
   "source": [
    "torch.save(model.state_dict(), \"model.pth\")\n",
    "print(\"Saved PyTorch Model State to model.pth\")"
   ]
  },
  {
   "cell_type": "markdown",
   "metadata": {},
   "source": [
    "# 加载模型\n",
    "加载模型的过程包括重新创建模型结构并将状态字典加载到其中。"
   ]
  },
  {
   "cell_type": "code",
   "execution_count": 27,
   "metadata": {},
   "outputs": [
    {
     "data": {
      "text/plain": [
       "<All keys matched successfully>"
      ]
     },
     "execution_count": 27,
     "metadata": {},
     "output_type": "execute_result"
    }
   ],
   "source": [
    "model = NeuralNetwork().to(device)\n",
    "model.load_state_dict(torch.load(\"model.pth\"))"
   ]
  },
  {
   "cell_type": "markdown",
   "metadata": {},
   "source": [
    "现在可以使用此模型进行预测。"
   ]
  },
  {
   "cell_type": "code",
   "execution_count": 29,
   "metadata": {},
   "outputs": [
    {
     "name": "stdout",
     "output_type": "stream",
     "text": [
      "Predicted: \"Ankle boot\", Actual: \"Ankle boot\"\n"
     ]
    }
   ],
   "source": [
    "classes = [\n",
    "    \"T-shirt/top\",\n",
    "    \"Trouser\",\n",
    "    \"Pullover\",\n",
    "    \"Dress\",\n",
    "    \"Coat\",\n",
    "    \"Sandal\",\n",
    "    \"Shirt\",\n",
    "    \"Sneaker\",\n",
    "    \"Bag\",\n",
    "    \"Ankle boot\",\n",
    "]\n",
    "\n",
    "model.eval()\n",
    "x, y = test_data[0][0], test_data[0][1]\n",
    "with torch.no_grad():\n",
    "    x = x.to(device)\n",
    "    pred = model(x)\n",
    "    predicted, actual = classes[pred[0].argmax(0)], classes[y]\n",
    "    print(f'Predicted: \"{predicted}\", Actual: \"{actual}\"')"
   ]
  }
 ],
 "metadata": {
  "kernelspec": {
   "display_name": "d2l",
   "language": "python",
   "name": "python3"
  },
  "language_info": {
   "codemirror_mode": {
    "name": "ipython",
    "version": 3
   },
   "file_extension": ".py",
   "mimetype": "text/x-python",
   "name": "python",
   "nbconvert_exporter": "python",
   "pygments_lexer": "ipython3",
   "version": "3.9.19"
  },
  "orig_nbformat": 4
 },
 "nbformat": 4,
 "nbformat_minor": 2
}
